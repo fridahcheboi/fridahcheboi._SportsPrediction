{
 "cells": [
  {
   "cell_type": "code",
   "execution_count": 3,
   "id": "1d8e646a-32d6-4433-b3db-f133d7eb2841",
   "metadata": {},
   "outputs": [],
   "source": [
    "# Import necessary libraries that we shall use to handle the data\n",
    "import pandas as pd\n",
    "import numpy as np"
   ]
  },
  {
   "cell_type": "code",
   "execution_count": 5,
   "id": "828bb42a-f368-48b0-954c-b88231db2272",
   "metadata": {},
   "outputs": [
    {
     "name": "stderr",
     "output_type": "stream",
     "text": [
      "C:\\Users\\user\\AppData\\Local\\Temp\\ipykernel_27528\\1599229442.py:2: DtypeWarning: Columns (108) have mixed types. Specify dtype option on import or set low_memory=False.\n",
      "  data1 = pd.read_csv('male_players (legacy).csv')\n"
     ]
    }
   ],
   "source": [
    "# read the data. \n",
    "data1 = pd.read_csv('male_players (legacy).csv')"
   ]
  },
  {
   "cell_type": "code",
   "execution_count": 6,
   "id": "c02791d4-cf84-416c-a256-a7f7f248afb6",
   "metadata": {},
   "outputs": [
    {
     "data": {
      "text/html": [
       "<div>\n",
       "<style scoped>\n",
       "    .dataframe tbody tr th:only-of-type {\n",
       "        vertical-align: middle;\n",
       "    }\n",
       "\n",
       "    .dataframe tbody tr th {\n",
       "        vertical-align: top;\n",
       "    }\n",
       "\n",
       "    .dataframe thead th {\n",
       "        text-align: right;\n",
       "    }\n",
       "</style>\n",
       "<table border=\"1\" class=\"dataframe\">\n",
       "  <thead>\n",
       "    <tr style=\"text-align: right;\">\n",
       "      <th></th>\n",
       "      <th>player_id</th>\n",
       "      <th>player_url</th>\n",
       "      <th>fifa_version</th>\n",
       "      <th>fifa_update</th>\n",
       "      <th>fifa_update_date</th>\n",
       "      <th>short_name</th>\n",
       "      <th>long_name</th>\n",
       "      <th>player_positions</th>\n",
       "      <th>overall</th>\n",
       "      <th>potential</th>\n",
       "      <th>...</th>\n",
       "      <th>cdm</th>\n",
       "      <th>rdm</th>\n",
       "      <th>rwb</th>\n",
       "      <th>lb</th>\n",
       "      <th>lcb</th>\n",
       "      <th>cb</th>\n",
       "      <th>rcb</th>\n",
       "      <th>rb</th>\n",
       "      <th>gk</th>\n",
       "      <th>player_face_url</th>\n",
       "    </tr>\n",
       "  </thead>\n",
       "  <tbody>\n",
       "    <tr>\n",
       "      <th>70141</th>\n",
       "      <td>197136</td>\n",
       "      <td>/player/197136/karim-ansarifard/190002</td>\n",
       "      <td>19</td>\n",
       "      <td>2</td>\n",
       "      <td>2018-08-21</td>\n",
       "      <td>K. Ansarifard</td>\n",
       "      <td>Karim Ansarifard</td>\n",
       "      <td>ST</td>\n",
       "      <td>75</td>\n",
       "      <td>75</td>\n",
       "      <td>...</td>\n",
       "      <td>55+1</td>\n",
       "      <td>55+1</td>\n",
       "      <td>59+1</td>\n",
       "      <td>57+1</td>\n",
       "      <td>54+1</td>\n",
       "      <td>54+1</td>\n",
       "      <td>54+1</td>\n",
       "      <td>57+1</td>\n",
       "      <td>19+1</td>\n",
       "      <td>https://cdn.sofifa.net/players/197/136/19_120.png</td>\n",
       "    </tr>\n",
       "    <tr>\n",
       "      <th>155556</th>\n",
       "      <td>247741</td>\n",
       "      <td>/player/247741/anthony-glennon/230002</td>\n",
       "      <td>23</td>\n",
       "      <td>2</td>\n",
       "      <td>2022-09-26</td>\n",
       "      <td>A. Glennon</td>\n",
       "      <td>Anthony Driscoll-Glennon</td>\n",
       "      <td>LB, LWB</td>\n",
       "      <td>63</td>\n",
       "      <td>67</td>\n",
       "      <td>...</td>\n",
       "      <td>58+2</td>\n",
       "      <td>58+2</td>\n",
       "      <td>61+2</td>\n",
       "      <td>61+2</td>\n",
       "      <td>58+2</td>\n",
       "      <td>58+2</td>\n",
       "      <td>58+2</td>\n",
       "      <td>61+2</td>\n",
       "      <td>14+2</td>\n",
       "      <td>https://cdn.sofifa.net/players/247/741/23_120.png</td>\n",
       "    </tr>\n",
       "    <tr>\n",
       "      <th>79309</th>\n",
       "      <td>190169</td>\n",
       "      <td>/player/190169/dennis-telgenkamp/190002</td>\n",
       "      <td>19</td>\n",
       "      <td>2</td>\n",
       "      <td>2018-08-21</td>\n",
       "      <td>D. Telgenkamp</td>\n",
       "      <td>Dennis Telgenkamp</td>\n",
       "      <td>GK</td>\n",
       "      <td>64</td>\n",
       "      <td>64</td>\n",
       "      <td>...</td>\n",
       "      <td>22+1</td>\n",
       "      <td>22+1</td>\n",
       "      <td>21+1</td>\n",
       "      <td>20+1</td>\n",
       "      <td>22+1</td>\n",
       "      <td>22+1</td>\n",
       "      <td>22+1</td>\n",
       "      <td>20+1</td>\n",
       "      <td>63+1</td>\n",
       "      <td>https://cdn.sofifa.net/players/190/169/19_120.png</td>\n",
       "    </tr>\n",
       "    <tr>\n",
       "      <th>23550</th>\n",
       "      <td>172297</td>\n",
       "      <td>/player/172297/christian-kinkela/160002</td>\n",
       "      <td>16</td>\n",
       "      <td>2</td>\n",
       "      <td>2015-09-21</td>\n",
       "      <td>C. Kinkela</td>\n",
       "      <td>Christian Fuanda Luzolo Kinkela</td>\n",
       "      <td>RW, RM, CAM, ST</td>\n",
       "      <td>66</td>\n",
       "      <td>66</td>\n",
       "      <td>...</td>\n",
       "      <td>49</td>\n",
       "      <td>49</td>\n",
       "      <td>53</td>\n",
       "      <td>50</td>\n",
       "      <td>43</td>\n",
       "      <td>43</td>\n",
       "      <td>43</td>\n",
       "      <td>50</td>\n",
       "      <td>18</td>\n",
       "      <td>https://cdn.sofifa.net/players/172/297/16_120.png</td>\n",
       "    </tr>\n",
       "    <tr>\n",
       "      <th>44380</th>\n",
       "      <td>236258</td>\n",
       "      <td>/player/236258/nilson-loyola/170002</td>\n",
       "      <td>17</td>\n",
       "      <td>2</td>\n",
       "      <td>2016-09-20</td>\n",
       "      <td>N. Loyola</td>\n",
       "      <td>Nilson Evair Loyola Morales</td>\n",
       "      <td>LM</td>\n",
       "      <td>64</td>\n",
       "      <td>68</td>\n",
       "      <td>...</td>\n",
       "      <td>54+1</td>\n",
       "      <td>54+1</td>\n",
       "      <td>58+1</td>\n",
       "      <td>55+1</td>\n",
       "      <td>46+1</td>\n",
       "      <td>46+1</td>\n",
       "      <td>46+1</td>\n",
       "      <td>55+1</td>\n",
       "      <td>16+1</td>\n",
       "      <td>https://cdn.sofifa.net/players/236/258/17_120.png</td>\n",
       "    </tr>\n",
       "  </tbody>\n",
       "</table>\n",
       "<p>5 rows × 110 columns</p>\n",
       "</div>"
      ],
      "text/plain": [
       "        player_id                               player_url  fifa_version  \\\n",
       "70141      197136   /player/197136/karim-ansarifard/190002            19   \n",
       "155556     247741    /player/247741/anthony-glennon/230002            23   \n",
       "79309      190169  /player/190169/dennis-telgenkamp/190002            19   \n",
       "23550      172297  /player/172297/christian-kinkela/160002            16   \n",
       "44380      236258      /player/236258/nilson-loyola/170002            17   \n",
       "\n",
       "        fifa_update fifa_update_date     short_name  \\\n",
       "70141             2       2018-08-21  K. Ansarifard   \n",
       "155556            2       2022-09-26     A. Glennon   \n",
       "79309             2       2018-08-21  D. Telgenkamp   \n",
       "23550             2       2015-09-21     C. Kinkela   \n",
       "44380             2       2016-09-20      N. Loyola   \n",
       "\n",
       "                              long_name player_positions  overall  potential  \\\n",
       "70141                  Karim Ansarifard               ST       75         75   \n",
       "155556         Anthony Driscoll-Glennon          LB, LWB       63         67   \n",
       "79309                 Dennis Telgenkamp               GK       64         64   \n",
       "23550   Christian Fuanda Luzolo Kinkela  RW, RM, CAM, ST       66         66   \n",
       "44380       Nilson Evair Loyola Morales               LM       64         68   \n",
       "\n",
       "        ...   cdm   rdm   rwb    lb   lcb    cb   rcb    rb    gk  \\\n",
       "70141   ...  55+1  55+1  59+1  57+1  54+1  54+1  54+1  57+1  19+1   \n",
       "155556  ...  58+2  58+2  61+2  61+2  58+2  58+2  58+2  61+2  14+2   \n",
       "79309   ...  22+1  22+1  21+1  20+1  22+1  22+1  22+1  20+1  63+1   \n",
       "23550   ...    49    49    53    50    43    43    43    50    18   \n",
       "44380   ...  54+1  54+1  58+1  55+1  46+1  46+1  46+1  55+1  16+1   \n",
       "\n",
       "                                          player_face_url  \n",
       "70141   https://cdn.sofifa.net/players/197/136/19_120.png  \n",
       "155556  https://cdn.sofifa.net/players/247/741/23_120.png  \n",
       "79309   https://cdn.sofifa.net/players/190/169/19_120.png  \n",
       "23550   https://cdn.sofifa.net/players/172/297/16_120.png  \n",
       "44380   https://cdn.sofifa.net/players/236/258/17_120.png  \n",
       "\n",
       "[5 rows x 110 columns]"
      ]
     },
     "execution_count": 6,
     "metadata": {},
     "output_type": "execute_result"
    }
   ],
   "source": [
    "data1.sample(5)"
   ]
  },
  {
   "cell_type": "code",
   "execution_count": 9,
   "id": "2b9cce04-1b3e-430d-8bfb-e0484fdb9174",
   "metadata": {},
   "outputs": [
    {
     "data": {
      "text/html": [
       "<div>\n",
       "<style scoped>\n",
       "    .dataframe tbody tr th:only-of-type {\n",
       "        vertical-align: middle;\n",
       "    }\n",
       "\n",
       "    .dataframe tbody tr th {\n",
       "        vertical-align: top;\n",
       "    }\n",
       "\n",
       "    .dataframe thead th {\n",
       "        text-align: right;\n",
       "    }\n",
       "</style>\n",
       "<table border=\"1\" class=\"dataframe\">\n",
       "  <thead>\n",
       "    <tr style=\"text-align: right;\">\n",
       "      <th></th>\n",
       "      <th>player_id</th>\n",
       "      <th>fifa_version</th>\n",
       "      <th>fifa_update</th>\n",
       "      <th>overall</th>\n",
       "      <th>potential</th>\n",
       "      <th>value_eur</th>\n",
       "      <th>wage_eur</th>\n",
       "      <th>age</th>\n",
       "      <th>height_cm</th>\n",
       "      <th>weight_kg</th>\n",
       "      <th>...</th>\n",
       "      <th>mentality_composure</th>\n",
       "      <th>defending_marking_awareness</th>\n",
       "      <th>defending_standing_tackle</th>\n",
       "      <th>defending_sliding_tackle</th>\n",
       "      <th>goalkeeping_diving</th>\n",
       "      <th>goalkeeping_handling</th>\n",
       "      <th>goalkeeping_kicking</th>\n",
       "      <th>goalkeeping_positioning</th>\n",
       "      <th>goalkeeping_reflexes</th>\n",
       "      <th>goalkeeping_speed</th>\n",
       "    </tr>\n",
       "  </thead>\n",
       "  <tbody>\n",
       "    <tr>\n",
       "      <th>count</th>\n",
       "      <td>161583.000000</td>\n",
       "      <td>161583.000000</td>\n",
       "      <td>161583.0</td>\n",
       "      <td>161583.000000</td>\n",
       "      <td>161583.000000</td>\n",
       "      <td>1.595300e+05</td>\n",
       "      <td>159822.000000</td>\n",
       "      <td>161583.000000</td>\n",
       "      <td>161583.000000</td>\n",
       "      <td>161583.000000</td>\n",
       "      <td>...</td>\n",
       "      <td>128722.000000</td>\n",
       "      <td>161583.000000</td>\n",
       "      <td>161583.000000</td>\n",
       "      <td>161583.000000</td>\n",
       "      <td>161583.00000</td>\n",
       "      <td>161583.000000</td>\n",
       "      <td>161583.000000</td>\n",
       "      <td>161583.000000</td>\n",
       "      <td>161583.000000</td>\n",
       "      <td>17969.000000</td>\n",
       "    </tr>\n",
       "    <tr>\n",
       "      <th>mean</th>\n",
       "      <td>214484.722353</td>\n",
       "      <td>19.125514</td>\n",
       "      <td>2.0</td>\n",
       "      <td>65.699071</td>\n",
       "      <td>70.744008</td>\n",
       "      <td>2.326770e+06</td>\n",
       "      <td>10855.409768</td>\n",
       "      <td>25.123181</td>\n",
       "      <td>181.240205</td>\n",
       "      <td>75.235031</td>\n",
       "      <td>...</td>\n",
       "      <td>57.816892</td>\n",
       "      <td>45.757957</td>\n",
       "      <td>47.669996</td>\n",
       "      <td>45.698588</td>\n",
       "      <td>16.52961</td>\n",
       "      <td>16.274918</td>\n",
       "      <td>16.140374</td>\n",
       "      <td>16.288861</td>\n",
       "      <td>16.636973</td>\n",
       "      <td>39.149090</td>\n",
       "    </tr>\n",
       "    <tr>\n",
       "      <th>std</th>\n",
       "      <td>34928.608856</td>\n",
       "      <td>2.559318</td>\n",
       "      <td>0.0</td>\n",
       "      <td>7.040855</td>\n",
       "      <td>6.259121</td>\n",
       "      <td>6.005746e+06</td>\n",
       "      <td>21941.656285</td>\n",
       "      <td>4.670207</td>\n",
       "      <td>6.750148</td>\n",
       "      <td>7.000456</td>\n",
       "      <td>...</td>\n",
       "      <td>12.329739</td>\n",
       "      <td>20.453699</td>\n",
       "      <td>21.336404</td>\n",
       "      <td>20.935273</td>\n",
       "      <td>17.67047</td>\n",
       "      <td>16.834294</td>\n",
       "      <td>16.476466</td>\n",
       "      <td>16.998697</td>\n",
       "      <td>17.980143</td>\n",
       "      <td>10.503788</td>\n",
       "    </tr>\n",
       "    <tr>\n",
       "      <th>min</th>\n",
       "      <td>2.000000</td>\n",
       "      <td>15.000000</td>\n",
       "      <td>2.0</td>\n",
       "      <td>40.000000</td>\n",
       "      <td>40.000000</td>\n",
       "      <td>1.000000e+03</td>\n",
       "      <td>500.000000</td>\n",
       "      <td>16.000000</td>\n",
       "      <td>154.000000</td>\n",
       "      <td>49.000000</td>\n",
       "      <td>...</td>\n",
       "      <td>3.000000</td>\n",
       "      <td>1.000000</td>\n",
       "      <td>2.000000</td>\n",
       "      <td>3.000000</td>\n",
       "      <td>1.00000</td>\n",
       "      <td>1.000000</td>\n",
       "      <td>1.000000</td>\n",
       "      <td>1.000000</td>\n",
       "      <td>1.000000</td>\n",
       "      <td>12.000000</td>\n",
       "    </tr>\n",
       "    <tr>\n",
       "      <th>25%</th>\n",
       "      <td>199159.000000</td>\n",
       "      <td>17.000000</td>\n",
       "      <td>2.0</td>\n",
       "      <td>61.000000</td>\n",
       "      <td>66.000000</td>\n",
       "      <td>3.250000e+05</td>\n",
       "      <td>2000.000000</td>\n",
       "      <td>21.000000</td>\n",
       "      <td>176.000000</td>\n",
       "      <td>70.000000</td>\n",
       "      <td>...</td>\n",
       "      <td>50.000000</td>\n",
       "      <td>26.000000</td>\n",
       "      <td>27.000000</td>\n",
       "      <td>25.000000</td>\n",
       "      <td>8.00000</td>\n",
       "      <td>8.000000</td>\n",
       "      <td>8.000000</td>\n",
       "      <td>8.000000</td>\n",
       "      <td>8.000000</td>\n",
       "      <td>31.000000</td>\n",
       "    </tr>\n",
       "    <tr>\n",
       "      <th>50%</th>\n",
       "      <td>220621.000000</td>\n",
       "      <td>19.000000</td>\n",
       "      <td>2.0</td>\n",
       "      <td>66.000000</td>\n",
       "      <td>70.000000</td>\n",
       "      <td>7.250000e+05</td>\n",
       "      <td>4000.000000</td>\n",
       "      <td>25.000000</td>\n",
       "      <td>181.000000</td>\n",
       "      <td>75.000000</td>\n",
       "      <td>...</td>\n",
       "      <td>59.000000</td>\n",
       "      <td>50.000000</td>\n",
       "      <td>54.000000</td>\n",
       "      <td>52.000000</td>\n",
       "      <td>11.00000</td>\n",
       "      <td>11.000000</td>\n",
       "      <td>11.000000</td>\n",
       "      <td>11.000000</td>\n",
       "      <td>11.000000</td>\n",
       "      <td>41.000000</td>\n",
       "    </tr>\n",
       "    <tr>\n",
       "      <th>75%</th>\n",
       "      <td>236958.000000</td>\n",
       "      <td>21.000000</td>\n",
       "      <td>2.0</td>\n",
       "      <td>70.000000</td>\n",
       "      <td>75.000000</td>\n",
       "      <td>1.800000e+06</td>\n",
       "      <td>10000.000000</td>\n",
       "      <td>28.000000</td>\n",
       "      <td>186.000000</td>\n",
       "      <td>80.000000</td>\n",
       "      <td>...</td>\n",
       "      <td>66.000000</td>\n",
       "      <td>63.000000</td>\n",
       "      <td>66.000000</td>\n",
       "      <td>64.000000</td>\n",
       "      <td>14.00000</td>\n",
       "      <td>14.000000</td>\n",
       "      <td>14.000000</td>\n",
       "      <td>14.000000</td>\n",
       "      <td>14.000000</td>\n",
       "      <td>46.000000</td>\n",
       "    </tr>\n",
       "    <tr>\n",
       "      <th>max</th>\n",
       "      <td>271817.000000</td>\n",
       "      <td>23.000000</td>\n",
       "      <td>2.0</td>\n",
       "      <td>94.000000</td>\n",
       "      <td>95.000000</td>\n",
       "      <td>1.940000e+08</td>\n",
       "      <td>575000.000000</td>\n",
       "      <td>54.000000</td>\n",
       "      <td>208.000000</td>\n",
       "      <td>110.000000</td>\n",
       "      <td>...</td>\n",
       "      <td>96.000000</td>\n",
       "      <td>94.000000</td>\n",
       "      <td>94.000000</td>\n",
       "      <td>95.000000</td>\n",
       "      <td>91.00000</td>\n",
       "      <td>92.000000</td>\n",
       "      <td>95.000000</td>\n",
       "      <td>92.000000</td>\n",
       "      <td>94.000000</td>\n",
       "      <td>68.000000</td>\n",
       "    </tr>\n",
       "  </tbody>\n",
       "</table>\n",
       "<p>8 rows × 63 columns</p>\n",
       "</div>"
      ],
      "text/plain": [
       "           player_id   fifa_version  fifa_update        overall  \\\n",
       "count  161583.000000  161583.000000     161583.0  161583.000000   \n",
       "mean   214484.722353      19.125514          2.0      65.699071   \n",
       "std     34928.608856       2.559318          0.0       7.040855   \n",
       "min         2.000000      15.000000          2.0      40.000000   \n",
       "25%    199159.000000      17.000000          2.0      61.000000   \n",
       "50%    220621.000000      19.000000          2.0      66.000000   \n",
       "75%    236958.000000      21.000000          2.0      70.000000   \n",
       "max    271817.000000      23.000000          2.0      94.000000   \n",
       "\n",
       "           potential     value_eur       wage_eur            age  \\\n",
       "count  161583.000000  1.595300e+05  159822.000000  161583.000000   \n",
       "mean       70.744008  2.326770e+06   10855.409768      25.123181   \n",
       "std         6.259121  6.005746e+06   21941.656285       4.670207   \n",
       "min        40.000000  1.000000e+03     500.000000      16.000000   \n",
       "25%        66.000000  3.250000e+05    2000.000000      21.000000   \n",
       "50%        70.000000  7.250000e+05    4000.000000      25.000000   \n",
       "75%        75.000000  1.800000e+06   10000.000000      28.000000   \n",
       "max        95.000000  1.940000e+08  575000.000000      54.000000   \n",
       "\n",
       "           height_cm      weight_kg  ...  mentality_composure  \\\n",
       "count  161583.000000  161583.000000  ...        128722.000000   \n",
       "mean      181.240205      75.235031  ...            57.816892   \n",
       "std         6.750148       7.000456  ...            12.329739   \n",
       "min       154.000000      49.000000  ...             3.000000   \n",
       "25%       176.000000      70.000000  ...            50.000000   \n",
       "50%       181.000000      75.000000  ...            59.000000   \n",
       "75%       186.000000      80.000000  ...            66.000000   \n",
       "max       208.000000     110.000000  ...            96.000000   \n",
       "\n",
       "       defending_marking_awareness  defending_standing_tackle  \\\n",
       "count                161583.000000              161583.000000   \n",
       "mean                     45.757957                  47.669996   \n",
       "std                      20.453699                  21.336404   \n",
       "min                       1.000000                   2.000000   \n",
       "25%                      26.000000                  27.000000   \n",
       "50%                      50.000000                  54.000000   \n",
       "75%                      63.000000                  66.000000   \n",
       "max                      94.000000                  94.000000   \n",
       "\n",
       "       defending_sliding_tackle  goalkeeping_diving  goalkeeping_handling  \\\n",
       "count             161583.000000        161583.00000         161583.000000   \n",
       "mean                  45.698588            16.52961             16.274918   \n",
       "std                   20.935273            17.67047             16.834294   \n",
       "min                    3.000000             1.00000              1.000000   \n",
       "25%                   25.000000             8.00000              8.000000   \n",
       "50%                   52.000000            11.00000             11.000000   \n",
       "75%                   64.000000            14.00000             14.000000   \n",
       "max                   95.000000            91.00000             92.000000   \n",
       "\n",
       "       goalkeeping_kicking  goalkeeping_positioning  goalkeeping_reflexes  \\\n",
       "count        161583.000000            161583.000000         161583.000000   \n",
       "mean             16.140374                16.288861             16.636973   \n",
       "std              16.476466                16.998697             17.980143   \n",
       "min               1.000000                 1.000000              1.000000   \n",
       "25%               8.000000                 8.000000              8.000000   \n",
       "50%              11.000000                11.000000             11.000000   \n",
       "75%              14.000000                14.000000             14.000000   \n",
       "max              95.000000                92.000000             94.000000   \n",
       "\n",
       "       goalkeeping_speed  \n",
       "count       17969.000000  \n",
       "mean           39.149090  \n",
       "std            10.503788  \n",
       "min            12.000000  \n",
       "25%            31.000000  \n",
       "50%            41.000000  \n",
       "75%            46.000000  \n",
       "max            68.000000  \n",
       "\n",
       "[8 rows x 63 columns]"
      ]
     },
     "execution_count": 9,
     "metadata": {},
     "output_type": "execute_result"
    }
   ],
   "source": [
    "data1.describe()"
   ]
  },
  {
   "cell_type": "markdown",
   "id": "81d7b76f-832d-46bf-819d-2315f81306cb",
   "metadata": {},
   "source": [
    "# QUESTION 1: Demostrate data preparation and feature extraction process"
   ]
  },
  {
   "cell_type": "markdown",
   "id": "ec4a9de4-e083-4a69-8025-ece7f2ed9d33",
   "metadata": {},
   "source": [
    "Steps to be taken: \n",
    "1. Separate data into numeric and numeric\n",
    "2. impute\n",
    "3. encode\n",
    "4. join\n",
    "5. Check correlation\n",
    "6. scale - compress variability / NORMALIZE\n",
    "7. split"
   ]
  },
  {
   "cell_type": "code",
   "execution_count": 11,
   "id": "abc963a4-459b-4ab8-8f0b-f4b086eba8f7",
   "metadata": {},
   "outputs": [
    {
     "data": {
      "text/plain": [
       "(161583, 15)"
      ]
     },
     "execution_count": 11,
     "metadata": {},
     "output_type": "execute_result"
    }
   ],
   "source": [
    "from sklearn.feature_extraction import FeatureHasher\n",
    "from sklearn.preprocessing import LabelEncoder\n",
    "\n",
    "def data_preparation(data): \n",
    "    \n",
    "    # Drop all columns with too many null values\n",
    "    lost = []\n",
    "    for i in data.columns:\n",
    "        if (data[i].isna().sum() > 0.3*(data.shape[0])):\n",
    "            lost.append(i)\n",
    "            data = data.drop(i, axis=1)\n",
    "    \n",
    "    # split data into numeric and non-numeric data\n",
    "    numeric_data = data.select_dtypes(include=np.number)\n",
    "    non_numeric = data.select_dtypes(include=['object'])\n",
    "        \n",
    "    # checking for missing data and imputing non_numeric data\n",
    "    missing_values = non_numeric.isnull().sum()\n",
    "    \n",
    "    # impute non_numeric values\n",
    "    from sklearn.impute import SimpleImputer\n",
    "    imputer = SimpleImputer(strategy = 'most_frequent')\n",
    "    non_numeric_imputed = pd.DataFrame(imputer.fit_transform(non_numeric), columns=non_numeric.columns, index=non_numeric.index)\n",
    "    missing_values = non_numeric_imputed.isnull().sum()\n",
    "\n",
    "    # checking for unique values per column\n",
    "    unique_values = non_numeric_imputed.nunique()\n",
    "\n",
    "    # from the above it appears that some columns have many unique values and some very little\n",
    "    # hence we shall encode the non-numeric values differently\n",
    "    # Separate the numeric columns based on cardinality\n",
    "    threshold = 200\n",
    "    low_cardinality_columns = unique_values[unique_values <= threshold].index.tolist()\n",
    "    high_cardinality_columns = unique_values[unique_values > threshold].index.tolist()\n",
    "    \n",
    "    # Impute missing values\n",
    "    imputer = SimpleImputer(strategy='most_frequent')\n",
    "    non_numeric_imputed = pd.DataFrame(imputer.fit_transform(non_numeric), columns=non_numeric.columns, index=non_numeric.index)\n",
    "    \n",
    "    # Use the label encoder to encode for low cardinality columns\n",
    "    label_encoded_features = non_numeric_imputed[low_cardinality_columns].copy()\n",
    "    label_encoders = {}\n",
    "    for column in low_cardinality_columns:\n",
    "        label_encoders[column] = LabelEncoder()\n",
    "        label_encoded_features[column] = label_encoders[column].fit_transform(non_numeric_imputed[column])\n",
    "    \n",
    "    \n",
    "    # Use the frequency encoder to encode for high cardinality columns\n",
    "    frequency_encoded_features = non_numeric_imputed[high_cardinality_columns].copy()\n",
    "    for column in high_cardinality_columns:\n",
    "        freq = non_numeric_imputed[column].value_counts()\n",
    "        \n",
    "        frequency_encoded_features[column] = non_numeric_imputed[column].map(freq)\n",
    "        \n",
    "    # Combine the features encoded by the label encoder and the frequency encoder\n",
    "    encoded_non_numeric = pd.concat([label_encoded_features, frequency_encoded_features], axis=1)\n",
    "\n",
    "    # impute: this method learns the data and then changes it\n",
    "    from sklearn.experimental import enable_iterative_imputer\n",
    "    from sklearn.impute import IterativeImputer\n",
    "    imp = IterativeImputer(max_iter=10, random_state=0)\n",
    "    \n",
    "    numeric_data = pd.DataFrame(np.round(imp.fit_transform(numeric_data)), columns=numeric_data.columns)\n",
    "\n",
    "    # Seperate the data into dependent and independent sets\n",
    "    y = numeric_data['overall']\n",
    "\n",
    "    # Join the numeric and non-numeric data\n",
    "    X = pd.concat([numeric_data,encoded_non_numeric], axis=1) # this X still has the overall variable \n",
    "\n",
    "    # calculate correlation of all data\n",
    "    correlation_matrix = X.corr()['overall'].abs().sort_values(ascending=False)\n",
    "\n",
    "    selected_features = correlation_matrix[:16]\n",
    "    X = X[selected_features.index]\n",
    "    X = X.drop('overall', axis=1)\n",
    "\n",
    "    return X, y \n",
    "\n",
    "X, y = data_preparation(data1)\n",
    "X.shape"
   ]
  },
  {
   "cell_type": "code",
   "execution_count": 13,
   "id": "2d5e444b-e54e-452f-ab13-05a606819c5e",
   "metadata": {},
   "outputs": [
    {
     "data": {
      "text/plain": [
       "Index(['movement_reactions', 'mentality_composure', 'potential', 'wage_eur',\n",
       "       'value_eur', 'long_name', 'passing', 'attacking_short_passing',\n",
       "       'mentality_vision', 'international_reputation', 'skill_long_passing',\n",
       "       'power_shot_power', 'physic', 'age', 'skill_ball_control'],\n",
       "      dtype='object')"
      ]
     },
     "execution_count": 13,
     "metadata": {},
     "output_type": "execute_result"
    }
   ],
   "source": [
    "X.columns"
   ]
  },
  {
   "cell_type": "markdown",
   "id": "68738d1f-8310-412f-9db6-9c3a095d008b",
   "metadata": {},
   "source": [
    "Columns with highest correlation:\n",
    "movement_reactions                0.845753\n",
    "potential                         0.695362\n",
    "mentality_composure               0.683307\n",
    "passing                           0.681114\n",
    "wage_eur                          0.611368\n",
    "dribbling                         0.606575\n",
    "value_eur                         0.566827\n",
    "physic                            0.513279"
   ]
  },
  {
   "cell_type": "markdown",
   "id": "c6b343d4-549b-47a8-bc73-ca1e1c213450",
   "metadata": {},
   "source": [
    "# QUESTION 3: Create and train a suitable machine learning model with cross-validation that can predict a player's rating.  "
   ]
  },
  {
   "cell_type": "code",
   "execution_count": 17,
   "id": "77de7d73-d7c5-4a88-a8f5-bb3aa302fbd4",
   "metadata": {},
   "outputs": [],
   "source": [
    "# SCALE\n",
    "from sklearn.preprocessing import StandardScaler\n",
    "scaler=StandardScaler()\n",
    "X=scaler.fit_transform(X) "
   ]
  },
  {
   "cell_type": "code",
   "execution_count": 19,
   "id": "511c96ea-b39a-444d-ba14-3658ecd34f53",
   "metadata": {},
   "outputs": [],
   "source": [
    "from sklearn.model_selection import train_test_split, cross_val_score\n",
    "from sklearn.linear_model import LinearRegression\n",
    "from sklearn.metrics import mean_squared_error, mean_absolute_error, r2_score"
   ]
  },
  {
   "cell_type": "code",
   "execution_count": 21,
   "id": "cf671da5-9d4b-4ea4-a2c5-c2193110c4ca",
   "metadata": {},
   "outputs": [
    {
     "name": "stdout",
     "output_type": "stream",
     "text": [
      "Cross Validation scores: [0.91436319 0.91301067 0.91505416 0.91520388 0.91348317]\n",
      "Test Score (R-Squared): 0.9146502313865525\n",
      "MAE: 1.5845008142640091\n",
      "RMSE: 1.258769563607259\n"
     ]
    }
   ],
   "source": [
    "X_train, X_test, y_train, y_test = train_test_split(X, y, test_size=0.2, random_state=42,stratify=y)\n",
    "\n",
    "model1 = LinearRegression()\n",
    "\n",
    "# to check for consistency, variance, and general performance of the linear regression model. \n",
    "cv_scores = cross_val_score(model1, X_train, y_train, cv=5, scoring='r2')\n",
    "print(f'Cross Validation scores: {cv_scores}')\n",
    "\n",
    "model1.fit(X_train, y_train)\n",
    "\n",
    "y_pred = model1.predict(X_test)\n",
    "\n",
    "# Check and print performance of the regression model\n",
    "print(f'Test Score (R-Squared): {model1.score(X_test, y_test)}')\n",
    "print(f'MAE: {mean_absolute_error(y_test, y_pred)}')\n",
    "print(f'RMSE: {np.sqrt(mean_absolute_error(y_test, y_pred))}')"
   ]
  },
  {
   "cell_type": "code",
   "execution_count": 23,
   "id": "8e104d7e-567e-40b0-8199-921f40764018",
   "metadata": {},
   "outputs": [
    {
     "name": "stdout",
     "output_type": "stream",
     "text": [
      "Cross-validation R^2 scores: [0.98446791 0.98419669 0.98476318 0.98435298 0.98403771]\n",
      "Test Score (R-Squared): 0.9845937047550514\n",
      "MAE: 0.5188928427762479\n",
      "RMSE: 0.7203421706218843\n"
     ]
    }
   ],
   "source": [
    "# The ensemble model: random forest regressor\n",
    "from sklearn.ensemble import RandomForestRegressor\n",
    "\n",
    "# initializing the second model \n",
    "model2 = RandomForestRegressor(n_estimators=100,random_state=42)\n",
    "# to check for consistency, variance, and general performance of the linear regression model.\n",
    "cv_scores = cross_val_score(model2, X_train, y_train, cv=5, scoring='r2')\n",
    "print(f'Cross-validation R^2 scores: {cv_scores}')\n",
    "\n",
    "model2.fit(X_train, y_train)\n",
    "\n",
    "y_pred = model2.predict(X_test)\n",
    "\n",
    "# Check and print performance of the regression model\n",
    "print(f'Test Score (R-Squared): {model2.score(X_test, y_test)}')\n",
    "print(f'MAE: {mean_absolute_error(y_test, y_pred)}')\n",
    "print(f'RMSE: {np.sqrt(mean_absolute_error(y_test, y_pred))}')"
   ]
  },
  {
   "cell_type": "code",
   "execution_count": 24,
   "id": "f97e1347-1dae-491a-b12f-164bfaf0166a",
   "metadata": {},
   "outputs": [
    {
     "name": "stdout",
     "output_type": "stream",
     "text": [
      "Cross-validation R^2 scores: [0.97058542 0.97107558 0.97182336 0.97109278 0.97087837]\n",
      "Test Score (R-Squared): 0.9706366068068414\n",
      "MAE: 0.9057677128089862\n",
      "RMSE: 0.951718294879838\n"
     ]
    }
   ],
   "source": [
    "# The model gradientBoostingRegressor\n",
    "from sklearn.ensemble import GradientBoostingRegressor\n",
    "\n",
    "# initialize the third model. \n",
    "model3 = GradientBoostingRegressor(n_estimators=100,random_state=42)\n",
    "\n",
    "# to check for consistency, variance, and general performance of the linear regression model.\n",
    "cv_scores = cross_val_score(model3, X_train, y_train, cv=5, scoring='r2')\n",
    "print(f'Cross-validation R^2 scores: {cv_scores}')\n",
    "\n",
    "model3.fit(X_train, y_train)\n",
    "\n",
    "y_pred = model3.predict(X_test)\n",
    "\n",
    "# Check and print perfomance of the regression model\n",
    "print(f'Test Score (R-Squared): {model3.score(X_test, y_test)}')\n",
    "print(f'MAE: {mean_absolute_error(y_test, y_pred)}')\n",
    "print(f'RMSE: {np.sqrt(mean_absolute_error(y_test, y_pred))}')"
   ]
  },
  {
   "cell_type": "code",
   "execution_count": 43,
   "id": "538453ce-6896-4d0f-9b81-a71b7c80037a",
   "metadata": {},
   "outputs": [],
   "source": [
    "#!pip install xgboost"
   ]
  },
  {
   "cell_type": "code",
   "execution_count": 39,
   "id": "995f30f6-6053-4281-bf4e-6ec1ed0182de",
   "metadata": {},
   "outputs": [],
   "source": [
    "import xgboost as xgb"
   ]
  },
  {
   "cell_type": "code",
   "execution_count": 41,
   "id": "b243c603-41bd-4cf7-b65e-748f639d3266",
   "metadata": {},
   "outputs": [
    {
     "name": "stdout",
     "output_type": "stream",
     "text": [
      "Test Score (R-Squared): 0.9707848900216414\n",
      "MAE: 0.903744734723877\n",
      "RMSE: 0.9506548978067051\n"
     ]
    }
   ],
   "source": [
    "# The model XGBoostRegressor\n",
    "from sklearn.ensemble import GradientBoostingRegressor\n",
    "\n",
    "# initialize the fourth model. \n",
    "model4 = xgb.XGBRegressor(objective='reg:squarederror', n_estimators=100, learning_rate=0.1, max_depth=3, random_state=42)\n",
    "\n",
    "model4.fit(X_train, y_train)\n",
    "\n",
    "y_pred = model4.predict(X_test)\n",
    "\n",
    "# Check and print perfomance of the regression model\n",
    "print(f'Test Score (R-Squared): {model4.score(X_test, y_test)}')\n",
    "print(f'MAE: {mean_absolute_error(y_test, y_pred)}')\n",
    "print(f'RMSE: {np.sqrt(mean_absolute_error(y_test, y_pred))}')"
   ]
  },
  {
   "cell_type": "markdown",
   "id": "c53866de-f0be-4b88-966c-c8537e20802b",
   "metadata": {},
   "source": [
    "From the above tests, the random forest regressor appears to have the best perfomance. "
   ]
  },
  {
   "cell_type": "markdown",
   "id": "13ce6e7e-7e4a-452e-89f3-74e17b318daf",
   "metadata": {},
   "source": [
    "# QUESTION 4: Measure the model's performance and fine-tune it as a process of optimization."
   ]
  },
  {
   "cell_type": "code",
   "execution_count": 27,
   "id": "e1395dbb-03d9-4879-94a1-dab37d5c75d1",
   "metadata": {},
   "outputs": [],
   "source": [
    "from sklearn.model_selection import GridSearchCV\n",
    "\n",
    "# RESET THE REGRESSORS BELOW TO BE THE MODEL1, MODEL2, MODEL3 MODEL4 you used above. \n",
    "# Re-run the finetuned models with the second data\n",
    "# save the best model\n",
    "# run python app using: streamlit run app.py\n",
    "# hopefully everything runs perfectly and you can record your video and submit. "
   ]
  },
  {
   "cell_type": "code",
   "execution_count": 29,
   "id": "3e48afeb-e231-4983-8dc9-f603ecc030e0",
   "metadata": {},
   "outputs": [],
   "source": [
    "# %config NotebookApp.iopub_data_rate_limit=10000000000  # 10 GB"
   ]
  },
  {
   "cell_type": "code",
   "execution_count": 43,
   "id": "76aa0ca0-784b-418a-828a-e6125ee5ee80",
   "metadata": {},
   "outputs": [
    {
     "name": "stdout",
     "output_type": "stream",
     "text": [
      "Fitting 3 folds for each of 2 candidates, totalling 6 fits\n",
      "Linear Regression - Best parameters found:  {'fit_intercept': True}\n",
      "Fitting 3 folds for each of 8 candidates, totalling 24 fits\n",
      "Random Forest best parameters found:  {'max_depth': 30, 'min_samples_split': 2, 'n_estimators': 200}\n",
      "Fitting 3 folds for each of 8 candidates, totalling 24 fits\n",
      "Gradient Boosting best parameters found:  {'learning_rate': 0.1, 'max_depth': 5, 'n_estimators': 200}\n",
      "Fitting 3 folds for each of 8 candidates, totalling 24 fits\n",
      "XGBoost best parameters found:  {'learning_rate': 0.1, 'max_depth': 5, 'n_estimators': 200}\n"
     ]
    }
   ],
   "source": [
    "# Linear Regression\n",
    "param_grid1 = {\n",
    "    'fit_intercept': [True, False]\n",
    "}\n",
    "\n",
    "grid_search1 = GridSearchCV(estimator=model1, param_grid=param_grid1, \n",
    "                              cv=3, scoring='neg_mean_squared_error', verbose=1)\n",
    "grid_search1.fit(X_train, y_train)\n",
    "\n",
    "print(\"Linear Regression - Best parameters found: \", grid_search1.best_params_)\n",
    "fine_tuned_model1 = grid_search1.best_estimator_\n",
    "\n",
    "# Random Forest Regressor\n",
    "param_grid2 = {\n",
    "    'n_estimators': [100, 200],\n",
    "    'max_depth': [20, 30],\n",
    "    'min_samples_split': [2, 5]\n",
    "}\n",
    "\n",
    "grid_search2 = GridSearchCV(estimator=model2, param_grid=param_grid2, \n",
    "                              cv=3, scoring='neg_mean_squared_error', verbose=1, n_jobs=-1)\n",
    "grid_search2.fit(X_train, y_train)\n",
    "\n",
    "print(\"Random Forest best parameters found: \", grid_search2.best_params_)\n",
    "fine_tuned_model2 = grid_search2.best_estimator_\n",
    "\n",
    "# Gradient Boosting Regressor\n",
    "param_grid3 = {\n",
    "    'n_estimators': [100, 200],\n",
    "    'learning_rate': [0.1, 0.05],\n",
    "    'max_depth': [3, 5],\n",
    "}\n",
    "\n",
    "grid_search3 = GridSearchCV(estimator=model3, param_grid=param_grid3, \n",
    "                              cv=3, scoring='neg_mean_squared_error', verbose=1, n_jobs=-1)\n",
    "grid_search3.fit(X_train, y_train)\n",
    "\n",
    "print(\"Gradient Boosting best parameters found: \", grid_search3.best_params_)\n",
    "fine_tuned_model3 = grid_search3.best_estimator_ # save the fine-tuned model\n",
    "\n",
    "# XGBoost regressor\n",
    "param_grid4 = {\n",
    "    'n_estimators': [100, 200],\n",
    "    'learning_rate': [0.1, 0.05],\n",
    "    'max_depth': [3, 5]\n",
    "}\n",
    "\n",
    "grid_search4 = GridSearchCV(estimator=model4, param_grid=param_grid4, \n",
    "                              cv=3, scoring='neg_mean_squared_error', n_jobs=-1,verbose=1)\n",
    "grid_search4.fit(X_train, y_train)\n",
    "\n",
    "print(\"XGBoost best parameters found: \", grid_search4.best_params_)\n",
    "fine_tuned_model4 = grid_search4.best_estimator_ # save the fine-tuned model\n"
   ]
  },
  {
   "cell_type": "markdown",
   "id": "aa9b2051-895f-40ee-9499-656d6529e328",
   "metadata": {},
   "source": [
    "# QUESTION 5: Use the data from another season(players_22) which was not used during the training to test how good is the model. "
   ]
  },
  {
   "cell_type": "code",
   "execution_count": 45,
   "id": "1bd7cb33-7ccd-4056-8ee0-7e1de869d9a2",
   "metadata": {},
   "outputs": [
    {
     "name": "stderr",
     "output_type": "stream",
     "text": [
      "C:\\Users\\user\\AppData\\Local\\Temp\\ipykernel_27528\\3464647996.py:1: DtypeWarning: Columns (25,108) have mixed types. Specify dtype option on import or set low_memory=False.\n",
      "  data2 = pd.read_csv('players_22.csv')\n"
     ]
    }
   ],
   "source": [
    "data2 = pd.read_csv('players_22.csv')"
   ]
  },
  {
   "cell_type": "code",
   "execution_count": 47,
   "id": "cc1fe796-7013-4062-9318-cdb617fc514d",
   "metadata": {},
   "outputs": [
    {
     "name": "stderr",
     "output_type": "stream",
     "text": [
      "C:\\Users\\user\\anaconda3\\Lib\\site-packages\\sklearn\\impute\\_iterative.py:825: ConvergenceWarning: [IterativeImputer] Early stopping criterion not reached.\n",
      "  warnings.warn(\n"
     ]
    },
    {
     "data": {
      "text/plain": [
       "(19239, 15)"
      ]
     },
     "execution_count": 47,
     "metadata": {},
     "output_type": "execute_result"
    }
   ],
   "source": [
    "X, y = data_preparation(data2)\n",
    "X.shape"
   ]
  },
  {
   "cell_type": "code",
   "execution_count": 48,
   "id": "9421e6c8-51a0-45d7-a1df-9d2fbc3e2ad5",
   "metadata": {},
   "outputs": [],
   "source": [
    "X_train, X_test, y_train, y_test = train_test_split(X, y, test_size=0.2, random_state=42)"
   ]
  },
  {
   "cell_type": "code",
   "execution_count": 49,
   "id": "fefa2325-5eae-4127-9ee1-2f8374936ed7",
   "metadata": {},
   "outputs": [
    {
     "name": "stdout",
     "output_type": "stream",
     "text": [
      "Test Score (R-Squared): 0.8474556786171041\n",
      "MAE: 2.060044130992774\n",
      "RMSE: 1.4352853831182055\n"
     ]
    }
   ],
   "source": [
    "fine_tuned_model1.fit(X_train, y_train)\n",
    "\n",
    "y_pred = fine_tuned_model1.predict(X_test)\n",
    "\n",
    "# Check and print performance of the regression model\n",
    "print(f'Test Score (R-Squared): {fine_tuned_model1.score(X_test, y_test)}')\n",
    "print(f'MAE: {mean_absolute_error(y_test, y_pred)}')\n",
    "print(f'RMSE: {np.sqrt(mean_absolute_error(y_test, y_pred))}')"
   ]
  },
  {
   "cell_type": "code",
   "execution_count": 50,
   "id": "0d93090c-d3d1-488d-b410-c545402718fa",
   "metadata": {},
   "outputs": [
    {
     "name": "stdout",
     "output_type": "stream",
     "text": [
      "Test Score (R-Squared): 0.9774743984375678\n",
      "MAE: 0.5826611226611228\n",
      "RMSE: 0.763322423790316\n"
     ]
    }
   ],
   "source": [
    "fine_tuned_model2.fit(X_train, y_train)\n",
    "\n",
    "y_pred = fine_tuned_model2.predict(X_test)\n",
    "\n",
    "# Check and print performance of the regression model\n",
    "print(f'Test Score (R-Squared): {fine_tuned_model2.score(X_test, y_test)}')\n",
    "print(f'MAE: {mean_absolute_error(y_test, y_pred)}')\n",
    "print(f'RMSE: {np.sqrt(mean_absolute_error(y_test, y_pred))}')"
   ]
  },
  {
   "cell_type": "code",
   "execution_count": 51,
   "id": "7fa490a9-9a60-4ef1-a37b-6dcef818d175",
   "metadata": {},
   "outputs": [
    {
     "name": "stdout",
     "output_type": "stream",
     "text": [
      "Test Score (R-Squared): 0.976464883307854\n",
      "MAE: 0.7213701192885016\n",
      "RMSE: 0.8493351042365443\n"
     ]
    }
   ],
   "source": [
    "fine_tuned_model3.fit(X_train, y_train)\n",
    "\n",
    "y_pred = fine_tuned_model3.predict(X_test)\n",
    "\n",
    "# Check and print performance of the regression model\n",
    "print(f'Test Score (R-Squared): {fine_tuned_model3.score(X_test, y_test)}')\n",
    "print(f'MAE: {mean_absolute_error(y_test, y_pred)}')\n",
    "print(f'RMSE: {np.sqrt(mean_absolute_error(y_test, y_pred))}')"
   ]
  },
  {
   "cell_type": "code",
   "execution_count": 52,
   "id": "480945c8-4297-41e8-90d5-e2b5f7eb1daf",
   "metadata": {},
   "outputs": [
    {
     "name": "stdout",
     "output_type": "stream",
     "text": [
      "Test Score (R-Squared): 0.9760807207646207\n",
      "MAE: 0.7254822774637266\n",
      "RMSE: 0.8517524742926942\n"
     ]
    }
   ],
   "source": [
    "fine_tuned_model4.fit(X_train, y_train)\n",
    "\n",
    "y_pred = fine_tuned_model4.predict(X_test)\n",
    "\n",
    "# Check and print performance of the regression model\n",
    "print(f'Test Score (R-Squared): {fine_tuned_model4.score(X_test, y_test)}')\n",
    "print(f'MAE: {mean_absolute_error(y_test, y_pred)}')\n",
    "print(f'RMSE: {np.sqrt(mean_absolute_error(y_test, y_pred))}')"
   ]
  },
  {
   "cell_type": "code",
   "execution_count": 59,
   "id": "fe1a5c07-b3ab-421d-b2af-980cbeea4814",
   "metadata": {},
   "outputs": [
    {
     "data": {
      "text/plain": [
       "['my_model.pkl']"
      ]
     },
     "execution_count": 59,
     "metadata": {},
     "output_type": "execute_result"
    }
   ],
   "source": [
    "# save best model\n",
    "import joblib\n",
    "joblib.dump(fine_tuned_model2, 'my_model.pkl')"
   ]
  },
  {
   "cell_type": "code",
   "execution_count": 61,
   "id": "05ddbbd0-fe64-41a5-b23f-0a66fe5a57ff",
   "metadata": {},
   "outputs": [
    {
     "data": {
      "text/plain": [
       "Index(['movement_reactions', 'mentality_composure', 'potential', 'lf', 'cf',\n",
       "       'rf', 'wage_eur', 'lw', 'rw', 'power_shot_power', 'lwb', 'rwb',\n",
       "       'value_eur', 'release_clause_eur', 'passing'],\n",
       "      dtype='object')"
      ]
     },
     "execution_count": 61,
     "metadata": {},
     "output_type": "execute_result"
    }
   ],
   "source": [
    "X.columns"
   ]
  }
 ],
 "metadata": {
  "kernelspec": {
   "display_name": "Python 3 (ipykernel)",
   "language": "python",
   "name": "python3"
  },
  "language_info": {
   "codemirror_mode": {
    "name": "ipython",
    "version": 3
   },
   "file_extension": ".py",
   "mimetype": "text/x-python",
   "name": "python",
   "nbconvert_exporter": "python",
   "pygments_lexer": "ipython3",
   "version": "3.11.7"
  }
 },
 "nbformat": 4,
 "nbformat_minor": 5
}
